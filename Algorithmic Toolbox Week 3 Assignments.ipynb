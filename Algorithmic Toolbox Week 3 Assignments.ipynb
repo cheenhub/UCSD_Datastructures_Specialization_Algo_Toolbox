{
 "cells": [
  {
   "cell_type": "markdown",
   "metadata": {},
   "source": [
    "Money change - Find minimum number of coins required to change input value to coins of denomination 1, 5, and 10"
   ]
  },
  {
   "cell_type": "code",
   "execution_count": 3,
   "metadata": {},
   "outputs": [
    {
     "name": "stdout",
     "output_type": "stream",
     "text": [
      "28\n",
      "6\n"
     ]
    }
   ],
   "source": [
    "def money_change(m):\n",
    "    number_of_tens = m // 10\n",
    "    number_of_fives = m%10 // 5\n",
    "    number_of_ones = m%5\n",
    "    return number_of_tens+number_of_fives+number_of_ones\n",
    "\n",
    "n = int(input())\n",
    "print(money_change(n))"
   ]
  },
  {
   "cell_type": "markdown",
   "metadata": {},
   "source": [
    "Maximum value of loot - Fractional knapsack problem"
   ]
  },
  {
   "cell_type": "code",
   "execution_count": 27,
   "metadata": {},
   "outputs": [
    {
     "name": "stdout",
     "output_type": "stream",
     "text": [
      "1 10 500 30\n",
      "166.6666666667\n"
     ]
    }
   ],
   "source": [
    "def get_optimal_value(capacity, weights, values):\n",
    "    final_value = 0\n",
    "    value_per_weight = [values[i]/weights[i] for i in range(len(values))]\n",
    "    weights = [x for _,x in sorted(zip(value_per_weight,weights),reverse = True)]\n",
    "    values = [x for _,x in sorted(zip(value_per_weight,values),reverse = True)]\n",
    "    \n",
    "    for i in range(len(weights)):\n",
    "        if capacity == 0:\n",
    "            break\n",
    "        a = min(weights[i],capacity)\n",
    "        \n",
    "        final_value = final_value + a*(values[i]/weights[i])\n",
    "        weights[i] = weights[i] - a\n",
    "        capacity = capacity - a\n",
    "    return final_value\n",
    "\n",
    "data = list(map(int, input().split()))\n",
    "n, capacity = data[0:2]\n",
    "values = data[2:(2 * n + 2):2]\n",
    "weights = data[3:(2 * n + 2):2]\n",
    "opt_value = get_optimal_value(capacity, weights, values)\n",
    "print(\"{:.10f}\".format(opt_value))"
   ]
  },
  {
   "cell_type": "markdown",
   "metadata": {},
   "source": [
    "Maximum advertisement revenue - maximise sum of product"
   ]
  },
  {
   "cell_type": "code",
   "execution_count": 30,
   "metadata": {},
   "outputs": [
    {
     "name": "stdout",
     "output_type": "stream",
     "text": [
      "3 1 3 -5 -2 4 1\n",
      "23\n"
     ]
    }
   ],
   "source": [
    "def max_dot_product(a,b):\n",
    "    a = sorted(a)\n",
    "    b = sorted(b)\n",
    "    max_sum = 0\n",
    "    for i in range(len(a)):\n",
    "        element_sum = a[i]*b[i]\n",
    "        max_sum = max_sum + element_sum\n",
    "    return max_sum\n",
    "\n",
    "data = list(map(int, input().split()))\n",
    "n = data[0]\n",
    "a = data[1:(n + 1)]\n",
    "b = data[(n + 1):]\n",
    "print(max_dot_product(a, b))"
   ]
  },
  {
   "cell_type": "markdown",
   "metadata": {},
   "source": [
    "Collecting signatures - find minimum number of points in input segments"
   ]
  },
  {
   "cell_type": "code",
   "execution_count": 62,
   "metadata": {},
   "outputs": [
    {
     "name": "stdout",
     "output_type": "stream",
     "text": [
      "4 4 7 1 3 2 5 5 6\n",
      "2\n",
      "3 6 "
     ]
    }
   ],
   "source": [
    "from collections import namedtuple\n",
    "\n",
    "Segment = namedtuple('Segment', 'start end')\n",
    "\n",
    "def optimal_points(segments):\n",
    "    if segments == []:\n",
    "        return []\n",
    "    segments = sorted(segments)\n",
    "    first_max = max(min(segments))\n",
    "    big_segments = []\n",
    "    points = []\n",
    "    for seg in segments[1:]:\n",
    "        max_per_seg = max(seg)\n",
    "        if min(seg) > first_max and max_per_seg > first_max:\n",
    "            big_segments.append(seg)\n",
    "        elif max_per_seg < first_max:\n",
    "            first_max = max_per_seg\n",
    "            points.append(max_per_seg)\n",
    "        else:\n",
    "            points.append(first_max)\n",
    "            \n",
    "    points_all = optimal_points(big_segments)\n",
    "    points_all.append(first_max)\n",
    "    points_all = list(set(points_all))\n",
    "    return points_all\n",
    "    \n",
    "\n",
    "n, *data = map(int, input().split())\n",
    "segments = list(map(lambda x: Segment(x[0], x[1]), zip(data[::2], data[1::2])))\n",
    "points = optimal_points(segments)\n",
    "print(len(points))\n",
    "for p in points:\n",
    "    print(p, end=' ')"
   ]
  },
  {
   "cell_type": "markdown",
   "metadata": {},
   "source": [
    "Candy distribution - Sum of maximum number of distinct positive integers"
   ]
  },
  {
   "cell_type": "code",
   "execution_count": 96,
   "metadata": {},
   "outputs": [
    {
     "name": "stdout",
     "output_type": "stream",
     "text": [
      "8\n",
      "3\n",
      "1 2 5 "
     ]
    }
   ],
   "source": [
    "def optimal_summands(n):\n",
    "    sum_series = 0\n",
    "    i = 1\n",
    "    summands = [i]\n",
    "    while sum_series <= n:\n",
    "        i = i + 1\n",
    "        summands.append(i)\n",
    "        sum_series = (i*(i+1))//2\n",
    "\n",
    "    summands = summands[:-2]\n",
    "    sum_all = sum(summands)\n",
    "\n",
    "    remainder = n - sum_all\n",
    "\n",
    "    summands.append(remainder)\n",
    "    return summands\n",
    "\n",
    "n = int(input())\n",
    "summands = optimal_summands(n)\n",
    "print(len(summands))\n",
    "for x in summands:\n",
    "    print(x, end=' ')"
   ]
  },
  {
   "cell_type": "markdown",
   "metadata": {},
   "source": [
    "Maximum salary - Largest number (not only from single digit numbers)"
   ]
  },
  {
   "cell_type": "code",
   "execution_count": 188,
   "metadata": {},
   "outputs": [
    {
     "name": "stdout",
     "output_type": "stream",
     "text": [
      "4 398 999 473\n",
      "999473398\n"
     ]
    }
   ],
   "source": [
    "def greater_or_equal(digit,max_digit):\n",
    "    return digit+max_digit >= max_digit+digit\n",
    "\n",
    "def largest_number(a):\n",
    "    answer = ''\n",
    "    while a != []:\n",
    "        max_digit = '0'\n",
    "        for digit in a:\n",
    "            if greater_or_equal(digit,max_digit):\n",
    "                max_digit = digit\n",
    "        answer = answer + str(max_digit)\n",
    "        a.remove(max_digit)\n",
    "    return answer\n",
    "    \n",
    "data = input().split()\n",
    "a = data[1:]\n",
    "print(largest_number(a))"
   ]
  }
 ],
 "metadata": {
  "kernelspec": {
   "display_name": "Python 3",
   "language": "python",
   "name": "python3"
  },
  "language_info": {
   "codemirror_mode": {
    "name": "ipython",
    "version": 3
   },
   "file_extension": ".py",
   "mimetype": "text/x-python",
   "name": "python",
   "nbconvert_exporter": "python",
   "pygments_lexer": "ipython3",
   "version": "3.6.5"
  }
 },
 "nbformat": 4,
 "nbformat_minor": 2
}

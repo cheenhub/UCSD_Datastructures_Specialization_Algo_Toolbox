{
 "cells": [
  {
   "cell_type": "markdown",
   "metadata": {},
   "source": [
    "Money Change - Dynamic Programming"
   ]
  },
  {
   "cell_type": "code",
   "execution_count": 26,
   "metadata": {},
   "outputs": [
    {
     "name": "stdout",
     "output_type": "stream",
     "text": [
      "34\n",
      "9\n"
     ]
    }
   ],
   "source": [
    "def get_change(m):\n",
    "    list_change = [0]*(m+1)\n",
    "    for mon in range(m+1):\n",
    "        num_coins = mon\n",
    "        for i in [1,3,4]:\n",
    "            if i <= mon:\n",
    "                if list_change[mon - i]+1 < num_coins:\n",
    "                    num_coins = list_change[mon - i]+1\n",
    "                list_change[mon] = num_coins\n",
    "    return list_change[m]\n",
    "\n",
    "m = int(input())\n",
    "print(get_change(m))"
   ]
  },
  {
   "cell_type": "markdown",
   "metadata": {},
   "source": [
    "Primitive Calculator"
   ]
  },
  {
   "cell_type": "code",
   "execution_count": 28,
   "metadata": {},
   "outputs": [
    {
     "name": "stdout",
     "output_type": "stream",
     "text": [
      "96234\n",
      "14\n",
      "1 3 9 10 11 33 99 297 891 2673 8019 16038 16039 48117 96234 "
     ]
    }
   ],
   "source": [
    "def optimal_sequence(n):\n",
    "    sequence = []\n",
    "    steps = [0]*(n+1)\n",
    "    for step in range(1,n+1):\n",
    "        steps[step] = steps[step - 1] + 1\n",
    "        if step%2 == 0:\n",
    "            steps[step] = min(steps[step//2]+1,steps[step])\n",
    "        if step%3 == 0:\n",
    "            steps[step] = min(steps[step//3]+1,steps[step])\n",
    "    \n",
    "    while n > 1:\n",
    "        sequence.append(n)\n",
    "        if steps[n] - 1 == steps[n - 1]:\n",
    "            n = n - 1\n",
    "        elif (n%2 == 0) and (steps[n//2] == steps[n] - 1):\n",
    "            n = n // 2\n",
    "        elif (n%3 == 0) and (steps[n//3] == steps[n] - 1):\n",
    "            n = n // 3\n",
    "    \n",
    "    sequence.append(1)\n",
    "        \n",
    "    return reversed(sequence)\n",
    "\n",
    "n = int(input())\n",
    "sequence = list(optimal_sequence(n))\n",
    "print(len(sequence) - 1)\n",
    "for x in sequence:\n",
    "    print(x, end=' ')"
   ]
  },
  {
   "cell_type": "markdown",
   "metadata": {},
   "source": [
    "Edit Distance"
   ]
  },
  {
   "cell_type": "code",
   "execution_count": 63,
   "metadata": {},
   "outputs": [
    {
     "name": "stdout",
     "output_type": "stream",
     "text": [
      "editing\n",
      "distance\n",
      "5\n"
     ]
    }
   ],
   "source": [
    "def edit_distance(s, t):\n",
    "    d = [[0]*(len(t)+1) for _ in range(len(s)+1)] \n",
    "    \n",
    "    for i in range(len(s)+1):\n",
    "        d[i][0] = i\n",
    "    for i in range(len(t)+1):\n",
    "        d[0][i] = i\n",
    "        \n",
    "    for i in range(1,len(s)+1):\n",
    "        for j in range(1,len(t)+1):\n",
    "            insertion = d[i][j-1]+1\n",
    "            deletion = d[i-1][j]+1\n",
    "            match = d[i-1][j-1]\n",
    "            mismatch = d[i-1][j-1] + 1\n",
    "            if s[i-1] == t[j-1]:\n",
    "                d[i][j] = min(insertion,deletion,match)\n",
    "            else:\n",
    "                d[i][j] = min(insertion,deletion,mismatch)\n",
    "        \n",
    "    return d[len(s)][len(t)]\n",
    "\n",
    "print(edit_distance(input(), input()))"
   ]
  },
  {
   "cell_type": "markdown",
   "metadata": {},
   "source": [
    "Longest Common subsequence of two sequences"
   ]
  },
  {
   "cell_type": "code",
   "execution_count": 73,
   "metadata": {},
   "outputs": [
    {
     "name": "stdout",
     "output_type": "stream",
     "text": [
      "1 7 4 1 2 3 4\n",
      "0\n"
     ]
    }
   ],
   "source": [
    "def lcs2(a, b):\n",
    "    d = [[0]*(len(b)+1) for _ in range(len(a)+1)] \n",
    "    \n",
    "    for i in range(1,len(a)+1):\n",
    "        for j in range(1,len(b)+1):\n",
    "            if a[i-1] == b[j-1]:\n",
    "                d[i][j] = d[i-1][j-1] + 1\n",
    "            else:\n",
    "                d[i][j] = max(d[i-1][j],d[i][j-1])\n",
    "    \n",
    "    return d[len(a)][len(b)]\n",
    "\n",
    "\n",
    "data = list(map(int, input().split()))\n",
    "\n",
    "n = data[0]\n",
    "data = data[1:]\n",
    "a = data[:n]\n",
    "\n",
    "data = data[n:]\n",
    "m = data[0]\n",
    "data = data[1:]\n",
    "b = data[:m]\n",
    "\n",
    "print(lcs2(a, b))"
   ]
  },
  {
   "cell_type": "markdown",
   "metadata": {},
   "source": [
    "Longest common subsequence of three sequences"
   ]
  },
  {
   "cell_type": "code",
   "execution_count": 79,
   "metadata": {},
   "outputs": [
    {
     "name": "stdout",
     "output_type": "stream",
     "text": [
      "5 8 3 2 1 7 7 8 2 1 3 8 10 7 6 6 8 3 1 4 7\n",
      "3\n"
     ]
    }
   ],
   "source": [
    "def lcs3(a, b, c):\n",
    "    d = [[[0 for i in range(len(c)+1)] for j in range(len(b)+1)] for k in range(len(a)+1)]\n",
    "    \n",
    "    for i in range(1,len(a)+1):\n",
    "        for j in range(1,len(b)+1):\n",
    "            for k in range(1,len(c)+1):\n",
    "                if a[i-1] == b[j-1] == c[k-1]:\n",
    "                    d[i][j][k] = d[i-1][j-1][k-1] + 1\n",
    "                else:\n",
    "                    d[i][j][k] = max(d[i-1][j-1][k],d[i][j-1][k-1],d[i-1][j][k-1],d[i][j][k-1],d[i][j-1][k],d[i-1][j][k])\n",
    "    return d[len(a)][len(b)][len(c)]\n",
    "\n",
    "data = list(map(int, input().split()))\n",
    "an = data[0]\n",
    "data = data[1:]\n",
    "a = data[:an]\n",
    "data = data[an:]\n",
    "bn = data[0]\n",
    "data = data[1:]\n",
    "b = data[:bn]\n",
    "data = data[bn:]\n",
    "cn = data[0]\n",
    "data = data[1:]\n",
    "c = data[:cn]\n",
    "print(lcs3(a, b, c))"
   ]
  }
 ],
 "metadata": {
  "kernelspec": {
   "display_name": "Python 3",
   "language": "python",
   "name": "python3"
  },
  "language_info": {
   "codemirror_mode": {
    "name": "ipython",
    "version": 3
   },
   "file_extension": ".py",
   "mimetype": "text/x-python",
   "name": "python",
   "nbconvert_exporter": "python",
   "pygments_lexer": "ipython3",
   "version": "3.6.5"
  }
 },
 "nbformat": 4,
 "nbformat_minor": 2
}

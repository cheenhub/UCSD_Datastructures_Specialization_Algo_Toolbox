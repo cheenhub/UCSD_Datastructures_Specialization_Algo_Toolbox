{
 "cells": [
  {
   "cell_type": "markdown",
   "metadata": {},
   "source": [
    "nth Fibonacci number"
   ]
  },
  {
   "cell_type": "code",
   "execution_count": 168,
   "metadata": {},
   "outputs": [
    {
     "name": "stdout",
     "output_type": "stream",
     "text": [
      "100\n",
      "354224848179261915075\n"
     ]
    }
   ],
   "source": [
    "def get_fib(n):\n",
    "    fib_list = [0,1]\n",
    "    for i in range(2,n+1):\n",
    "        fib_list = fib_list + [fib_list[-1]+fib_list[-2]]\n",
    "    return fib_list[n]\n",
    "\n",
    "n = int(input())\n",
    "print(get_fib(n))"
   ]
  },
  {
   "cell_type": "markdown",
   "metadata": {},
   "source": [
    "Last digit of nth Fibonacci number"
   ]
  },
  {
   "cell_type": "code",
   "execution_count": 163,
   "metadata": {},
   "outputs": [
    {
     "name": "stdout",
     "output_type": "stream",
     "text": [
      "10\n",
      "5\n"
     ]
    }
   ],
   "source": [
    "def last_digit_fib(n):\n",
    "    if n <2:\n",
    "        return n\n",
    "    else:\n",
    "        a = 0\n",
    "        b = 1\n",
    "        for i in range(1,n):\n",
    "            a,b = b,(a+b)%10\n",
    "        return b\n",
    "\n",
    "n = int(input())\n",
    "print(last_digit_fib(n))"
   ]
  },
  {
   "cell_type": "markdown",
   "metadata": {},
   "source": [
    "Greatest common divisor - Using Euclid's algorithm"
   ]
  },
  {
   "cell_type": "code",
   "execution_count": 2,
   "metadata": {},
   "outputs": [
    {
     "name": "stdout",
     "output_type": "stream",
     "text": [
      "226553150 1023473145\n",
      "5\n"
     ]
    }
   ],
   "source": [
    "def gcd(a,b):\n",
    "    if a == 0 or b == 0:\n",
    "        return max(a,b)\n",
    "    elif a % b == 0:\n",
    "        return min(a,b)\n",
    "    else:\n",
    "        maxval = max(a,b)\n",
    "        minval = min(a,b)\n",
    "        return(gcd(minval,maxval%minval))\n",
    "\n",
    "a,b = input().split()\n",
    "a = int(a)\n",
    "b = int(b)\n",
    "print(gcd(a,b))"
   ]
  },
  {
   "cell_type": "markdown",
   "metadata": {},
   "source": [
    "Least common multiple"
   ]
  },
  {
   "cell_type": "code",
   "execution_count": 5,
   "metadata": {},
   "outputs": [
    {
     "name": "stdout",
     "output_type": "stream",
     "text": [
      "226553150 1023473145\n",
      "46374212988031350\n"
     ]
    }
   ],
   "source": [
    "def lcm(a,b):\n",
    "    multval = a*b\n",
    "    if a == 0 or b == 0:\n",
    "        gcdval =  max(a,b)\n",
    "    elif a % b == 0:\n",
    "        gcdval =  min(a,b)\n",
    "    else:\n",
    "        # LCM of 2 numbers = product of 2 numbers / GCD\n",
    "        maxval = max(a,b)\n",
    "        minval = min(a,b)\n",
    "        gcdval = gcd(minval,maxval%minval)\n",
    "    return multval//gcdval\n",
    "    \n",
    "a,b = input().split()\n",
    "a = int(a)\n",
    "b = int(b)\n",
    "print(lcm(a,b))"
   ]
  },
  {
   "cell_type": "markdown",
   "metadata": {},
   "source": [
    "Fibonacci number modulo m"
   ]
  },
  {
   "cell_type": "code",
   "execution_count": 75,
   "metadata": {},
   "outputs": [
    {
     "name": "stdout",
     "output_type": "stream",
     "text": [
      "239 1000\n",
      "161\n"
     ]
    }
   ],
   "source": [
    "def fib_mod_m(n,m):\n",
    "    rem_list = [0,1]\n",
    "    fib_list = [0,1]\n",
    "    if n>m:\n",
    "        for i in range(2,n+1):\n",
    "            fib_list = fib_list + [fib_list[-1]+fib_list[-2]]\n",
    "            rem_list.append(fib_list[i] % m)\n",
    "            if rem_list[-2:] == [0,1]:\n",
    "                break\n",
    "        period = len(rem_list) - 2\n",
    "        rem_req = n % period\n",
    "        return fib_list[rem_req] % m     \n",
    "    \n",
    "    # Naive algorithm for when n is less than m\n",
    "    if m >= n:\n",
    "        for i in range(2,n+1):\n",
    "            fib_list = fib_list + [fib_list[-1]+fib_list[-2]]\n",
    "        return fib_list[-1]%m\n",
    "        \n",
    "\n",
    "\n",
    "n,m = input().split()\n",
    "n = int(n)\n",
    "m = int(m)\n",
    "print(fib_mod_m(n,m))"
   ]
  },
  {
   "cell_type": "markdown",
   "metadata": {},
   "source": [
    "Last digit of sum of Fibonacci"
   ]
  },
  {
   "cell_type": "code",
   "execution_count": 151,
   "metadata": {},
   "outputs": [
    {
     "name": "stdout",
     "output_type": "stream",
     "text": [
      "0\n",
      "0\n"
     ]
    }
   ],
   "source": [
    "def sum_last_digit(n):\n",
    "    if n < 2:\n",
    "        a = 0\n",
    "        b = 1\n",
    "        return n\n",
    "    else:\n",
    "        # Last digit of sum of Fibonacci numbers follows a period of 60\n",
    "        remreq = n%60\n",
    "        sum_list = [0,1]\n",
    "        fib_list = [0,1]\n",
    "        for i in range(2,remreq+1):\n",
    "            fib_list.append(fib_list[-1]+fib_list[-2])\n",
    "            sum_list.append(sum(fib_list)%10)\n",
    "        return sum_list[remreq]\n",
    "\n",
    "n = int(input())\n",
    "print(sum_last_digit(n))"
   ]
  },
  {
   "cell_type": "markdown",
   "metadata": {},
   "source": [
    "Last digit of partial sum of Fibonacci numbers"
   ]
  },
  {
   "cell_type": "code",
   "execution_count": 155,
   "metadata": {},
   "outputs": [
    {
     "name": "stdout",
     "output_type": "stream",
     "text": [
      "0 3\n",
      "4\n"
     ]
    }
   ],
   "source": [
    "def partial_sum(m,n):\n",
    "    if m == 0:\n",
    "        last_digit_m = 0\n",
    "    else:\n",
    "        last_digit_m = sum_last_digit(m-1)\n",
    "    last_digit_n = sum_last_digit(n)\n",
    "    if last_digit_n >= last_digit_m:\n",
    "        return last_digit_n - last_digit_m\n",
    "    else:\n",
    "        return 10 + last_digit_n - last_digit_m\n",
    "\n",
    "m,n = input().split()\n",
    "n = int(n)\n",
    "m = int(m)\n",
    "print(partial_sum(m,n))"
   ]
  },
  {
   "cell_type": "markdown",
   "metadata": {},
   "source": [
    "Last digit of sum of squares of Fibonacci numbers"
   ]
  },
  {
   "cell_type": "code",
   "execution_count": 166,
   "metadata": {},
   "outputs": [
    {
     "name": "stdout",
     "output_type": "stream",
     "text": [
      "1234567890\n",
      "0\n"
     ]
    }
   ],
   "source": [
    "def sum_squares_fib(n):\n",
    "    if n < 2:\n",
    "        return n\n",
    "    else:\n",
    "        # Sum of squares also follows a period of 60\n",
    "        rem_req = n%60\n",
    "        fib_list = [0,1]\n",
    "        for i in range(2,rem_req+2):\n",
    "            fib_list.append(last_digit_fib(i))\n",
    "        return (fib_list[-1]*fib_list[-2])%10\n",
    "        \n",
    "\n",
    "n = int(input())\n",
    "print(sum_squares_fib(n))"
   ]
  },
  {
   "cell_type": "code",
   "execution_count": null,
   "metadata": {},
   "outputs": [],
   "source": []
  }
 ],
 "metadata": {
  "kernelspec": {
   "display_name": "Python 3",
   "language": "python",
   "name": "python3"
  }
 },
 "nbformat": 4,
 "nbformat_minor": 2
}

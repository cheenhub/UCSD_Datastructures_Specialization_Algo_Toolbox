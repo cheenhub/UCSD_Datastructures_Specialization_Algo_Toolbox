{
 "cells": [
  {
   "cell_type": "markdown",
   "metadata": {},
   "source": [
    "Binary Search"
   ]
  },
  {
   "cell_type": "code",
   "execution_count": 38,
   "metadata": {},
   "outputs": [
    {
     "name": "stdout",
     "output_type": "stream",
     "text": [
      "7 1 3 5 10 12 14 20 2 20 21\n",
      "6 -1 "
     ]
    }
   ],
   "source": [
    "def binary_search(a,x):\n",
    "    left, right = 0,len(a) - 1\n",
    "    while left <= right:\n",
    "        mid = left + (right - left)//2\n",
    "        middle = a[mid]\n",
    "        if middle == x:\n",
    "            return mid\n",
    "        elif x < middle:\n",
    "            right = mid - 1\n",
    "        else:\n",
    "            left = mid + 1\n",
    "    return -1\n",
    "\n",
    "data = list(map(int, input().split()))\n",
    "n = data[0]\n",
    "m = data[n + 1]\n",
    "a = data[1 : n + 1]\n",
    "for x in data[n + 2:]:\n",
    "    # replace with the call to binary_search when implemented\n",
    "    print(binary_search(a, x), end = ' ')"
   ]
  },
  {
   "cell_type": "markdown",
   "metadata": {},
   "source": [
    "Majority Element"
   ]
  },
  {
   "cell_type": "code",
   "execution_count": 53,
   "metadata": {},
   "outputs": [
    {
     "name": "stdout",
     "output_type": "stream",
     "text": [
      "10 4 4 4 4 4 4 1 2 3 5\n",
      "1\n"
     ]
    }
   ],
   "source": [
    "def get_majority_element(a,left,right):\n",
    "    if left == right:\n",
    "        return -1\n",
    "    if right == left + 1:\n",
    "        return a[left]\n",
    "    \n",
    "    maj_left = get_majority_element(a,left,(right-1+left)//2+1)\n",
    "    maj_right = get_majority_element(a,(right-1+left)//2+1,right)\n",
    "    \n",
    "    left_count = 0\n",
    "    for i in range(left,right):\n",
    "        if a[i] == maj_left:\n",
    "            left_count = left_count + 1\n",
    "        if left_count > (right-left)//2:\n",
    "            return maj_left\n",
    "    \n",
    "    right_count = 0\n",
    "    for i in range(left,right):\n",
    "        if a[i] == maj_right:\n",
    "            right_count = right_count + 1\n",
    "        if right_count > (right-left)//2:\n",
    "            return maj_right\n",
    "    return -1\n",
    "    \n",
    "\n",
    "n, *a = list(map(int, input().split()))\n",
    "if get_majority_element(a, 0, n) != -1:\n",
    "    print(1)\n",
    "else:\n",
    "    print(0)"
   ]
  },
  {
   "cell_type": "markdown",
   "metadata": {},
   "source": [
    "Improving Quicksort"
   ]
  },
  {
   "cell_type": "code",
   "execution_count": 397,
   "metadata": {},
   "outputs": [
    {
     "name": "stdout",
     "output_type": "stream",
     "text": [
      "5 2 3 9 2 9\n",
      "[] [2, 2] [3, 9, 9]\n",
      "[] [3] [9, 9]\n",
      "[] [9, 9] []\n",
      "2 2 3 9 9 "
     ]
    }
   ],
   "source": [
    "import random\n",
    "\n",
    "def partition3(a, pivot):\n",
    "    l,e,g = [],[],[]\n",
    "    for i in a:\n",
    "        if i < pivot:\n",
    "            l.append(i)\n",
    "        elif i == pivot:\n",
    "            e.append(i)\n",
    "        else:\n",
    "            g.append(i)\n",
    "        \n",
    "    return l,e,g\n",
    "\n",
    "\n",
    "def quick_sort(a):\n",
    "    if len(a) <= 1:\n",
    "        return a\n",
    "    #use partition3\n",
    "    pivot = a[0]\n",
    "    l,e,g = partition3(a, pivot)\n",
    "    print(l,e,g)\n",
    "    a = quick_sort(l) + e + quick_sort(g)\n",
    "    return a\n",
    "\n",
    "\n",
    "\n",
    "n, *a = list(map(int, input().split()))\n",
    "result = quick_sort(a)\n",
    "for x in result:\n",
    "    print(x, end=' ')"
   ]
  },
  {
   "cell_type": "markdown",
   "metadata": {},
   "source": [
    "Number of Inversions"
   ]
  },
  {
   "cell_type": "code",
   "execution_count": 430,
   "metadata": {},
   "outputs": [
    {
     "name": "stdout",
     "output_type": "stream",
     "text": [
      "6 0 9 8 7 3 2 1\n",
      "15\n"
     ]
    }
   ],
   "source": [
    "def get_number_of_inversions(arr):\n",
    "    if len(arr) == 1:\n",
    "        return arr, 0\n",
    "    else:\n",
    "        a = arr[:len(arr)//2]\n",
    "        b = arr[len(arr)//2:]\n",
    "        a, ai = get_number_of_inversions(a)\n",
    "        b, bi = get_number_of_inversions(b)\n",
    "        c = []\n",
    "        i = 0\n",
    "        j = 0\n",
    "        inversions = 0 + ai + bi\n",
    "        while i < len(a) and j < len(b):\n",
    "            if a[i] <= b[j]:\n",
    "                c.append(a[i])\n",
    "                i += 1\n",
    "            else:\n",
    "                c.append(b[j])\n",
    "                j += 1\n",
    "                inversions += (len(a[i:]))\n",
    "        c += a[i:]\n",
    "        c += b[j:]\n",
    "        return c, inversions\n",
    "    \n",
    "n, *a = list(map(int, input().split()))\n",
    "b = n * [0]\n",
    "print(get_number_of_inversions(a)[1])"
   ]
  },
  {
   "cell_type": "markdown",
   "metadata": {},
   "source": [
    "Organizing the lottery"
   ]
  },
  {
   "cell_type": "code",
   "execution_count": 449,
   "metadata": {},
   "outputs": [
    {
     "name": "stdout",
     "output_type": "stream",
     "text": [
      "2 3 0 5 7 10 1 6 11\n",
      "1 0 0 "
     ]
    }
   ],
   "source": [
    "def fast_count_segments(starts, ends, points):\n",
    "    cnt = []\n",
    "    cnt_greater = []\n",
    "    cnt_lesser = []\n",
    "    for i in range(len(points)):\n",
    "        num_greater = sum(points[i] >= j for j in starts)\n",
    "        cnt_greater.append(num_greater)\n",
    "        num_lesser = sum(points[i] > j for j in ends)\n",
    "        cnt_lesser.append(num_lesser)\n",
    "        cnt.append(num_greater - num_lesser)\n",
    "    \n",
    "    return cnt\n",
    "\n",
    "def naive_count_segments(starts, ends, points):\n",
    "    cnt = [0] * len(points)\n",
    "    for i in range(len(points)):\n",
    "        for j in range(len(starts)):\n",
    "            if starts[j] <= points[i] <= ends[j]:\n",
    "                cnt[i] += 1\n",
    "    return cnt\n",
    "\n",
    "data = list(map(int, input().split()))\n",
    "n = data[0]\n",
    "m = data[1]\n",
    "starts = data[2:2 * n + 2:2]\n",
    "ends   = data[3:2 * n + 2:2]\n",
    "points = data[2 * n + 2:]\n",
    "#use fast_count_segments\n",
    "cnt = fast_count_segments(starts, ends, points)\n",
    "for x in cnt:\n",
    "    print(x, end=' ')"
   ]
  }
 ],
 "metadata": {
  "kernelspec": {
   "display_name": "Python 3",
   "language": "python",
   "name": "python3"
  },
  "language_info": {
   "codemirror_mode": {
    "name": "ipython",
    "version": 3
   },
   "file_extension": ".py",
   "mimetype": "text/x-python",
   "name": "python",
   "nbconvert_exporter": "python",
   "pygments_lexer": "ipython3",
   "version": "3.6.5"
  }
 },
 "nbformat": 4,
 "nbformat_minor": 2
}

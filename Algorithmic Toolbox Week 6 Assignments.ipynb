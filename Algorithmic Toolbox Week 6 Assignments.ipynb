{
 "cells": [
  {
   "cell_type": "markdown",
   "metadata": {},
   "source": [
    "Discrete Knapsack without replacement - Amount of gold"
   ]
  },
  {
   "cell_type": "code",
   "execution_count": 6,
   "metadata": {},
   "outputs": [
    {
     "name": "stdout",
     "output_type": "stream",
     "text": [
      "10 3 1 4 8\n",
      "9\n"
     ]
    }
   ],
   "source": [
    "def optimal_weight(W, w):\n",
    "    d = [[0]*(W+1) for _ in range(len(w)+1)]\n",
    "    for i in range(1,len(w)+1):\n",
    "        for j in range(1,W+1):\n",
    "            d[i][j] = d[i-1][j]\n",
    "            if w[i-1] <= j:\n",
    "                val = d[i-1][j-w[i-1]] + w[i-1]\n",
    "                if d[i][j] < val:\n",
    "                    d[i][j] = val\n",
    "    return d[-1][-1] \n",
    "\n",
    "W, n, *w = list(map(int, input().split()))\n",
    "print(optimal_weight(W, w))"
   ]
  },
  {
   "cell_type": "markdown",
   "metadata": {},
   "source": [
    "Partitioning souvenirs #Ignore"
   ]
  },
  {
   "cell_type": "code",
   "execution_count": 16,
   "metadata": {},
   "outputs": [
    {
     "name": "stdout",
     "output_type": "stream",
     "text": [
      "13 1 2 3 4 5 5 7 7 8 10 12 19 25\n",
      "1\n"
     ]
    }
   ],
   "source": [
    "def partition3(A):\n",
    "    if (sum(A) % 3 != 0) or len(A) < 3:\n",
    "        return 0\n",
    "    val_per_person = sum(A)//3\n",
    "    d = [[0]*(len(A)+1) for _ in range(val_per_person+1)]\n",
    "    for i in range(1, val_per_person + 1):\n",
    "        for j in range(1, len(A) + 1):\n",
    "            prev = i - A[j - 1]\n",
    "            if A[j - 1] == i or (prev > 0 and d[prev][j - 1]):\n",
    "                if d[i][j - 1] == 0:\n",
    "                    d[i][j] = 1\n",
    "                    \n",
    "            else:\n",
    "                d[i][j] = d[i][j - 1]\n",
    "    return int(d[-1][-1] > 0)\n",
    "    \n",
    "\n",
    "n, *A = list(map(int, input().split()))\n",
    "print(partition3(A))"
   ]
  },
  {
   "cell_type": "markdown",
   "metadata": {},
   "source": [
    "Placing Parantheses - Maximum value of arithmetic expression"
   ]
  },
  {
   "cell_type": "code",
   "execution_count": 22,
   "metadata": {},
   "outputs": [
    {
     "name": "stdout",
     "output_type": "stream",
     "text": [
      "5-8+7*4-8+9\n",
      "200\n"
     ]
    }
   ],
   "source": [
    "import numpy as np\n",
    "\n",
    "def evalt(a, b, op):\n",
    "    if op == '+':\n",
    "        return a + b\n",
    "    elif op == '-':\n",
    "        return a - b\n",
    "    elif op == '*':\n",
    "        return a * b\n",
    "    else:\n",
    "        assert False\n",
    "\n",
    "def min_and_max(i, j, op, m, M):\n",
    "    min_val = np.inf\n",
    "    max_val = -np.inf\n",
    "\n",
    "    for k in range(i,j):\n",
    "        a = evalt(M[i][k], M[k+1][j], op[k])\n",
    "        b = evalt(M[i][k], m[k+1][j], op[k])\n",
    "        c = evalt(m[i][k], M[k+1][j], op[k])\n",
    "        d = evalt(m[i][k], m[k+1][j], op[k])\n",
    "        \n",
    "        min_val = min(min_val, a, b, c, d)\n",
    "        max_val = max(max_val, a, b, c, d)\n",
    "    \n",
    "    return(min_val, max_val)      \n",
    "        \n",
    "def get_maximum_value(comp_operation):\n",
    "    op = comp_operation[1:len(comp_operation):2]\n",
    "    num = comp_operation[0:len(comp_operation)+1:2]\n",
    "\n",
    "    m = [[0]*len(num) for _ in range(len(num))]\n",
    "    M = [[0]*len(num) for _ in range(len(num))]\n",
    "\n",
    "    for i in range(len(num)):\n",
    "        m[i][i] = int(num[i])\n",
    "        M[i][i] = int(num[i])\n",
    "\n",
    "    for s in range(1, len(num)):\n",
    "        for i in range(len(num)-s):\n",
    "            j = i + s\n",
    "            m[i][j], M[i][j] = min_and_max(i, j, op, m, M)\n",
    "\n",
    "    return M[0][-1]\n",
    "\n",
    "print(get_maximum_value(input()))"
   ]
  }
 ],
 "metadata": {
  "kernelspec": {
   "display_name": "Python 3",
   "language": "python",
   "name": "python3"
  },
  "language_info": {
   "codemirror_mode": {
    "name": "ipython",
    "version": 3
   },
   "file_extension": ".py",
   "mimetype": "text/x-python",
   "name": "python",
   "nbconvert_exporter": "python",
   "pygments_lexer": "ipython3",
   "version": "3.6.5"
  }
 },
 "nbformat": 4,
 "nbformat_minor": 2
}
